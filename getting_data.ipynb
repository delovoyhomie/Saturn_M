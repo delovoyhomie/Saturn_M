{
 "cells": [
  {
   "cell_type": "code",
   "execution_count": 1,
   "id": "7a82b8af-64e5-48b5-bc9b-e7f025ceae20",
   "metadata": {},
   "outputs": [],
   "source": [
    "from Saturn_M import *"
   ]
  },
  {
   "cell_type": "code",
   "execution_count": 2,
   "id": "42f93f5b-1cb6-4ca5-ac42-9c4bde5f5cfe",
   "metadata": {},
   "outputs": [],
   "source": [
    "from Saturn_F import *"
   ]
  },
  {
   "cell_type": "code",
   "execution_count": 23,
   "id": "4e5e172b-ff08-45dc-b3e1-6147158214a7",
   "metadata": {},
   "outputs": [
    {
     "name": "stdout",
     "output_type": "stream",
     "text": [
      "Number of regular contributors to TON Footsteps - 3\n",
      "Number of active contributors to TON Footsteps initiatives - 12\n",
      "Number of contributions made by community members - 46\n"
     ]
    }
   ],
   "source": [
    "get_contributors()"
   ]
  },
  {
   "cell_type": "code",
   "execution_count": 5,
   "id": "479c646d-aaf6-4102-bda8-0be2091097aa",
   "metadata": {},
   "outputs": [
    {
     "data": {
      "text/plain": [
       "{'Number issues': 207, 'Number closed issues': 133, 'Number open issues': 74}"
      ]
     },
     "execution_count": 5,
     "metadata": {},
     "output_type": "execute_result"
    }
   ],
   "source": [
    "get_issues()"
   ]
  },
  {
   "cell_type": "code",
   "execution_count": 6,
   "id": "cf2b87da-6dce-4a71-b065-92f680ac4d60",
   "metadata": {},
   "outputs": [
    {
     "data": {
      "text/plain": [
       "{'Number of pulls': 69}"
      ]
     },
     "execution_count": 6,
     "metadata": {},
     "output_type": "execute_result"
    }
   ],
   "source": [
    "get_pulls()"
   ]
  },
  {
   "cell_type": "code",
   "execution_count": 7,
   "id": "e4b2bf0b-66d3-4b40-97f2-3c1c3bf05620",
   "metadata": {},
   "outputs": [
    {
     "name": "stdout",
     "output_type": "stream",
     "text": [
      "Average solving time: 23.0 days\n"
     ]
    }
   ],
   "source": [
    "average_time_isseu()"
   ]
  },
  {
   "cell_type": "code",
   "execution_count": 14,
   "id": "4135281f-3f66-43dc-aacc-b3c6fc2e5aba",
   "metadata": {},
   "outputs": [
    {
     "name": "stdout",
     "output_type": "stream",
     "text": [
      "Number of regular contributors to TON Footsteps - 3\n",
      "Number of active contributors to TON Footsteps initiatives - 12\n",
      "Number of contributions made by community members - 46\n"
     ]
    }
   ],
   "source": [
    "from datetime import date\n",
    "start_date = date(2022, 1, 1)\n",
    "end_date = date(2022, 12, 31)\n",
    "dst_get_contributors(start_date, end_date)"
   ]
  },
  {
   "cell_type": "code",
   "execution_count": 20,
   "id": "ace1f5af-1f03-4248-91f0-b46ea8385405",
   "metadata": {},
   "outputs": [
    {
     "data": {
      "text/plain": [
       "{'Number issues': 207, 'Number closed issues': 133, 'Number open issues': 74}"
      ]
     },
     "execution_count": 20,
     "metadata": {},
     "output_type": "execute_result"
    }
   ],
   "source": [
    "start_date = date(2022, 4, 1)\n",
    "end_date = date(2023, 1, 31)\n",
    "dst_get_issues(start_date, end_date)"
   ]
  },
  {
   "cell_type": "code",
   "execution_count": 22,
   "id": "423f5232-1c22-49e9-8677-a77f64758a0c",
   "metadata": {},
   "outputs": [
    {
     "name": "stdout",
     "output_type": "stream",
     "text": [
      "{'Number issues': 131, 'Number closed issues': 63, 'Number open issues': 68}\n"
     ]
    }
   ],
   "source": [
    "from datetime import datetime\n",
    "start_date = datetime(2023, 1, 1)\n",
    "end_date = datetime(2022, 12, 31)\n",
    "\n",
    "issues_info = dst_get_issues(start_date, end_date)\n",
    "\n",
    "print(issues_info)\n"
   ]
  },
  {
   "cell_type": "code",
   "execution_count": 29,
   "id": "7fbbf4a6-4e1d-4819-94ae-d1df5423ea8d",
   "metadata": {},
   "outputs": [
    {
     "name": "stdout",
     "output_type": "stream",
     "text": [
      "{'Number of pulls': 0, 'Number of open pulls': 0, 'Number of closed pulls': 0}\n"
     ]
    }
   ],
   "source": [
    "start_date = datetime(2023, 4, 1)\n",
    "end_date = datetime(2022, 12, 31)\n",
    "\n",
    "issues_info = dst_get_pulls(start_date, end_date)\n",
    "\n",
    "print(issues_info)"
   ]
  },
  {
   "cell_type": "code",
   "execution_count": 33,
   "id": "4ec1eb3f-7682-4e9d-85b2-53e06e3da360",
   "metadata": {},
   "outputs": [
    {
     "name": "stdout",
     "output_type": "stream",
     "text": [
      "Average solving time: 23.0 days\n"
     ]
    }
   ],
   "source": [
    "start_date = datetime(2023, 4, 1)\n",
    "end_date = datetime(2022, 12, 31)\n",
    "\n",
    "dst_average_time_issue()"
   ]
  },
  {
   "cell_type": "code",
   "execution_count": null,
   "id": "b07fcf52-46a7-41a8-85bf-0f04e833ca9f",
   "metadata": {},
   "outputs": [],
   "source": []
  }
 ],
 "metadata": {
  "kernelspec": {
   "display_name": "Python 3 (ipykernel)",
   "language": "python",
   "name": "python3"
  },
  "language_info": {
   "codemirror_mode": {
    "name": "ipython",
    "version": 3
   },
   "file_extension": ".py",
   "mimetype": "text/x-python",
   "name": "python",
   "nbconvert_exporter": "python",
   "pygments_lexer": "ipython3",
   "version": "3.10.6"
  }
 },
 "nbformat": 4,
 "nbformat_minor": 5
}
